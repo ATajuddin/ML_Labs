{
 "cells": [
  {
   "cell_type": "markdown",
   "metadata": {
    "id": "6xEQLX069Qhz"
   },
   "source": [
    "# Lab2: Assignments\n",
    "\n"
   ]
  },
  {
   "cell_type": "markdown",
   "metadata": {
    "id": "B87Hygd89agO"
   },
   "source": [
    "## 1. Country Vaccination Dataset\n",
    "We are going to look at a dataset about Covid-19 vaccination. To get some insigths about the dataset, you can use **pandas**. Remember that **pandas** has a wide range of functions. Official documentation: https://pandas.pydata.org/docs/user_guide/ \n",
    "\n",
    "### 1.1 Loading Data\n",
    "\n",
    "Start by loading the dataset into a DataFrame. Since this notebook is not running on a server, check that the path to the dataset is the correct one on your computer or repository. "
   ]
  },
  {
   "cell_type": "code",
   "execution_count": 1,
   "metadata": {
    "id": "CqOpTn5G96o5"
   },
   "outputs": [],
   "source": [
    "import pandas as pd\n",
    "dataset1 = pd.read_csv(\"country_vaccinations.csv\")"
   ]
  },
  {
   "cell_type": "markdown",
   "metadata": {
    "id": "EWDQfs7yEMzf"
   },
   "source": [
    "To know the dimension of our dataset, we use the **shape** function. \n",
    "If you run the code you will see that \"dataset1\" has 3619 **data objects** represented with 15 **features**"
   ]
  },
  {
   "cell_type": "code",
   "execution_count": 2,
   "metadata": {
    "colab": {
     "base_uri": "https://localhost:8080/"
    },
    "executionInfo": {
     "elapsed": 662,
     "status": "ok",
     "timestamp": 1614687724949,
     "user": {
      "displayName": "Mouna Kacimi",
      "photoUrl": "",
      "userId": "13741257071130912570"
     },
     "user_tz": -60
    },
    "id": "3EUmtS0JEYIh",
    "outputId": "2a3866aa-1bd9-4ccb-995c-28985084b157"
   },
   "outputs": [
    {
     "data": {
      "text/plain": [
       "(3619, 15)"
      ]
     },
     "execution_count": 2,
     "metadata": {},
     "output_type": "execute_result"
    }
   ],
   "source": [
    "dataset1.shape"
   ]
  },
  {
   "cell_type": "markdown",
   "metadata": {
    "collapsed": true,
    "id": "ZlyJYsf83MaT"
   },
   "source": [
    "### 1.2 Describing Data\n",
    "\n",
    "Once we have an idea about the dataset, you can use the statistics to describe the data. For this purpose we can exploit several functions. One of the most used one is **describe()**. \n",
    "For numeric data, the result’s index will include count, mean, std, min, max as well as lower, 50 and upper percentiles. By default the lower percentile is 25 and the upper percentile is 75. The 50 percentile is the same as the median.\n",
    "\n",
    "For object data (e.g. strings or timestamps), the result’s index will include count, unique, top, and freq. The top is the most common value. The freq is the most common value’s frequency. Timestamps also include the first and last items.\n",
    "\n",
    "If multiple object values have the highest count, then the count and top results will be arbitrarily chosen from among those with the highest count.\n",
    "\n",
    "For mixed data types provided via a DataFrame, the default is to return only an analysis of numeric columns. If the dataframe consists only of object and categorical data without any numeric columns, the default is to return an analysis of both the object and categorical columns. If include='all' is provided as an option, the result will include a union of attributes of each type.\n"
   ]
  },
  {
   "cell_type": "code",
   "execution_count": 3,
   "metadata": {
    "colab": {
     "base_uri": "https://localhost:8080/",
     "height": 323
    },
    "executionInfo": {
     "elapsed": 910,
     "status": "ok",
     "timestamp": 1614687736862,
     "user": {
      "displayName": "Mouna Kacimi",
      "photoUrl": "",
      "userId": "13741257071130912570"
     },
     "user_tz": -60
    },
    "id": "LNGm62KURO8Z",
    "outputId": "7e71c22b-49b4-4a3f-fc66-11f21dadd05c",
    "scrolled": true
   },
   "outputs": [
    {
     "data": {
      "text/html": [
       "<div>\n",
       "<style scoped>\n",
       "    .dataframe tbody tr th:only-of-type {\n",
       "        vertical-align: middle;\n",
       "    }\n",
       "\n",
       "    .dataframe tbody tr th {\n",
       "        vertical-align: top;\n",
       "    }\n",
       "\n",
       "    .dataframe thead th {\n",
       "        text-align: right;\n",
       "    }\n",
       "</style>\n",
       "<table border=\"1\" class=\"dataframe\">\n",
       "  <thead>\n",
       "    <tr style=\"text-align: right;\">\n",
       "      <th></th>\n",
       "      <th>total_vaccinations</th>\n",
       "      <th>people_vaccinated</th>\n",
       "      <th>people_fully_vaccinated</th>\n",
       "      <th>daily_vaccinations_raw</th>\n",
       "      <th>daily_vaccinations</th>\n",
       "      <th>total_vaccinations_per_hundred</th>\n",
       "      <th>people_vaccinated_per_hundred</th>\n",
       "      <th>people_fully_vaccinated_per_hundred</th>\n",
       "      <th>daily_vaccinations_per_million</th>\n",
       "    </tr>\n",
       "  </thead>\n",
       "  <tbody>\n",
       "    <tr>\n",
       "      <th>count</th>\n",
       "      <td>2.393000e+03</td>\n",
       "      <td>1.981000e+03</td>\n",
       "      <td>1.324000e+03</td>\n",
       "      <td>2.019000e+03</td>\n",
       "      <td>3.483000e+03</td>\n",
       "      <td>2393.000000</td>\n",
       "      <td>1981.000000</td>\n",
       "      <td>1324.000000</td>\n",
       "      <td>3483.000000</td>\n",
       "    </tr>\n",
       "    <tr>\n",
       "      <th>mean</th>\n",
       "      <td>1.521028e+06</td>\n",
       "      <td>1.269657e+06</td>\n",
       "      <td>3.888861e+05</td>\n",
       "      <td>7.453608e+04</td>\n",
       "      <td>5.754796e+04</td>\n",
       "      <td>6.174785</td>\n",
       "      <td>5.243503</td>\n",
       "      <td>1.807364</td>\n",
       "      <td>2279.315820</td>\n",
       "    </tr>\n",
       "    <tr>\n",
       "      <th>std</th>\n",
       "      <td>5.038410e+06</td>\n",
       "      <td>4.148487e+06</td>\n",
       "      <td>1.476223e+06</td>\n",
       "      <td>2.065813e+05</td>\n",
       "      <td>1.784900e+05</td>\n",
       "      <td>11.530328</td>\n",
       "      <td>8.593589</td>\n",
       "      <td>4.604362</td>\n",
       "      <td>3788.432525</td>\n",
       "    </tr>\n",
       "    <tr>\n",
       "      <th>min</th>\n",
       "      <td>0.000000e+00</td>\n",
       "      <td>0.000000e+00</td>\n",
       "      <td>1.000000e+00</td>\n",
       "      <td>-5.001200e+04</td>\n",
       "      <td>1.000000e+00</td>\n",
       "      <td>0.000000</td>\n",
       "      <td>0.000000</td>\n",
       "      <td>0.000000</td>\n",
       "      <td>0.000000</td>\n",
       "    </tr>\n",
       "    <tr>\n",
       "      <th>25%</th>\n",
       "      <td>2.989300e+04</td>\n",
       "      <td>2.702000e+04</td>\n",
       "      <td>8.366000e+03</td>\n",
       "      <td>2.021000e+03</td>\n",
       "      <td>1.207500e+03</td>\n",
       "      <td>0.590000</td>\n",
       "      <td>0.610000</td>\n",
       "      <td>0.130000</td>\n",
       "      <td>349.000000</td>\n",
       "    </tr>\n",
       "    <tr>\n",
       "      <th>50%</th>\n",
       "      <td>1.917820e+05</td>\n",
       "      <td>1.694400e+05</td>\n",
       "      <td>3.395450e+04</td>\n",
       "      <td>1.164200e+04</td>\n",
       "      <td>6.081000e+03</td>\n",
       "      <td>2.420000</td>\n",
       "      <td>2.370000</td>\n",
       "      <td>0.720000</td>\n",
       "      <td>1039.000000</td>\n",
       "    </tr>\n",
       "    <tr>\n",
       "      <th>75%</th>\n",
       "      <td>7.689500e+05</td>\n",
       "      <td>6.324390e+05</td>\n",
       "      <td>1.947678e+05</td>\n",
       "      <td>5.658950e+04</td>\n",
       "      <td>2.922500e+04</td>\n",
       "      <td>5.570000</td>\n",
       "      <td>4.430000</td>\n",
       "      <td>1.512500</td>\n",
       "      <td>1978.000000</td>\n",
       "    </tr>\n",
       "    <tr>\n",
       "      <th>max</th>\n",
       "      <td>6.128950e+07</td>\n",
       "      <td>4.280960e+07</td>\n",
       "      <td>1.789567e+07</td>\n",
       "      <td>2.242472e+06</td>\n",
       "      <td>1.916190e+06</td>\n",
       "      <td>87.070000</td>\n",
       "      <td>49.750000</td>\n",
       "      <td>37.320000</td>\n",
       "      <td>30869.000000</td>\n",
       "    </tr>\n",
       "  </tbody>\n",
       "</table>\n",
       "</div>"
      ],
      "text/plain": [
       "       total_vaccinations  people_vaccinated  people_fully_vaccinated  \\\n",
       "count        2.393000e+03       1.981000e+03             1.324000e+03   \n",
       "mean         1.521028e+06       1.269657e+06             3.888861e+05   \n",
       "std          5.038410e+06       4.148487e+06             1.476223e+06   \n",
       "min          0.000000e+00       0.000000e+00             1.000000e+00   \n",
       "25%          2.989300e+04       2.702000e+04             8.366000e+03   \n",
       "50%          1.917820e+05       1.694400e+05             3.395450e+04   \n",
       "75%          7.689500e+05       6.324390e+05             1.947678e+05   \n",
       "max          6.128950e+07       4.280960e+07             1.789567e+07   \n",
       "\n",
       "       daily_vaccinations_raw  daily_vaccinations  \\\n",
       "count            2.019000e+03        3.483000e+03   \n",
       "mean             7.453608e+04        5.754796e+04   \n",
       "std              2.065813e+05        1.784900e+05   \n",
       "min             -5.001200e+04        1.000000e+00   \n",
       "25%              2.021000e+03        1.207500e+03   \n",
       "50%              1.164200e+04        6.081000e+03   \n",
       "75%              5.658950e+04        2.922500e+04   \n",
       "max              2.242472e+06        1.916190e+06   \n",
       "\n",
       "       total_vaccinations_per_hundred  people_vaccinated_per_hundred  \\\n",
       "count                     2393.000000                    1981.000000   \n",
       "mean                         6.174785                       5.243503   \n",
       "std                         11.530328                       8.593589   \n",
       "min                          0.000000                       0.000000   \n",
       "25%                          0.590000                       0.610000   \n",
       "50%                          2.420000                       2.370000   \n",
       "75%                          5.570000                       4.430000   \n",
       "max                         87.070000                      49.750000   \n",
       "\n",
       "       people_fully_vaccinated_per_hundred  daily_vaccinations_per_million  \n",
       "count                          1324.000000                     3483.000000  \n",
       "mean                              1.807364                     2279.315820  \n",
       "std                               4.604362                     3788.432525  \n",
       "min                               0.000000                        0.000000  \n",
       "25%                               0.130000                      349.000000  \n",
       "50%                               0.720000                     1039.000000  \n",
       "75%                               1.512500                     1978.000000  \n",
       "max                              37.320000                    30869.000000  "
      ]
     },
     "execution_count": 3,
     "metadata": {},
     "output_type": "execute_result"
    }
   ],
   "source": [
    "dataset1.describe()\n"
   ]
  },
  {
   "cell_type": "markdown",
   "metadata": {
    "id": "_TxraUZw2lci"
   },
   "source": [
    "The below example is when you need to include in the statistic sfeatures of type object. Run the following code and see what happens. "
   ]
  },
  {
   "cell_type": "code",
   "execution_count": 6,
   "metadata": {
    "colab": {
     "base_uri": "https://localhost:8080/",
     "height": 232
    },
    "executionInfo": {
     "elapsed": 924,
     "status": "ok",
     "timestamp": 1614687740236,
     "user": {
      "displayName": "Mouna Kacimi",
      "photoUrl": "",
      "userId": "13741257071130912570"
     },
     "user_tz": -60
    },
    "id": "XfQ45G81RlQX",
    "outputId": "06e84ae4-7b92-45a6-d73c-9c5633ca69d9",
    "scrolled": true
   },
   "outputs": [
    {
     "data": {
      "text/html": [
       "<div>\n",
       "<style scoped>\n",
       "    .dataframe tbody tr th:only-of-type {\n",
       "        vertical-align: middle;\n",
       "    }\n",
       "\n",
       "    .dataframe tbody tr th {\n",
       "        vertical-align: top;\n",
       "    }\n",
       "\n",
       "    .dataframe thead th {\n",
       "        text-align: right;\n",
       "    }\n",
       "</style>\n",
       "<table border=\"1\" class=\"dataframe\">\n",
       "  <thead>\n",
       "    <tr style=\"text-align: right;\">\n",
       "      <th></th>\n",
       "      <th>country</th>\n",
       "      <th>iso_code</th>\n",
       "      <th>date</th>\n",
       "      <th>vaccines</th>\n",
       "      <th>source_name</th>\n",
       "      <th>source_website</th>\n",
       "    </tr>\n",
       "  </thead>\n",
       "  <tbody>\n",
       "    <tr>\n",
       "      <th>count</th>\n",
       "      <td>3619</td>\n",
       "      <td>3343</td>\n",
       "      <td>3619</td>\n",
       "      <td>3619</td>\n",
       "      <td>3619</td>\n",
       "      <td>3619</td>\n",
       "    </tr>\n",
       "    <tr>\n",
       "      <th>unique</th>\n",
       "      <td>98</td>\n",
       "      <td>94</td>\n",
       "      <td>70</td>\n",
       "      <td>19</td>\n",
       "      <td>59</td>\n",
       "      <td>94</td>\n",
       "    </tr>\n",
       "    <tr>\n",
       "      <th>top</th>\n",
       "      <td>Wales</td>\n",
       "      <td>GBR</td>\n",
       "      <td>2021-02-09</td>\n",
       "      <td>Moderna, Oxford/AstraZeneca, Pfizer/BioNTech</td>\n",
       "      <td>Ministry of Health</td>\n",
       "      <td>https://coronavirus.data.gov.uk/details/health...</td>\n",
       "    </tr>\n",
       "    <tr>\n",
       "      <th>freq</th>\n",
       "      <td>69</td>\n",
       "      <td>69</td>\n",
       "      <td>80</td>\n",
       "      <td>1029</td>\n",
       "      <td>1048</td>\n",
       "      <td>345</td>\n",
       "    </tr>\n",
       "  </tbody>\n",
       "</table>\n",
       "</div>"
      ],
      "text/plain": [
       "       country iso_code        date  \\\n",
       "count     3619     3343        3619   \n",
       "unique      98       94          70   \n",
       "top      Wales      GBR  2021-02-09   \n",
       "freq        69       69          80   \n",
       "\n",
       "                                            vaccines         source_name  \\\n",
       "count                                           3619                3619   \n",
       "unique                                            19                  59   \n",
       "top     Moderna, Oxford/AstraZeneca, Pfizer/BioNTech  Ministry of Health   \n",
       "freq                                            1029                1048   \n",
       "\n",
       "                                           source_website  \n",
       "count                                                3619  \n",
       "unique                                                 94  \n",
       "top     https://coronavirus.data.gov.uk/details/health...  \n",
       "freq                                                  345  "
      ]
     },
     "execution_count": 6,
     "metadata": {},
     "output_type": "execute_result"
    }
   ],
   "source": [
    "import numpy as np\n",
    "dataset1.describe(include=object)"
   ]
  },
  {
   "cell_type": "markdown",
   "metadata": {
    "id": "Z8E_Eqi4EQNN"
   },
   "source": [
    "Another common technique we use in Machine Learning is to normalize our data. It often leads to a better performance. Here, by normalization we mean changing x to $ \\frac{x}{\\| x\\|} $ (dividing each row vector of x by its norm).\n",
    "\n",
    "For example, if $$x = \n",
    "\\begin{bmatrix}\n",
    "    0 & 3 & 4 \\\\\n",
    "    2 & 6 & 4 \\\\\n",
    "\\end{bmatrix}\\tag{3}$$ then $$\\| x\\| = np.linalg.norm(x, axis = 1, keepdims = True) = \\begin{bmatrix}\n",
    "    5 \\\\\n",
    "    \\sqrt{56} \\\\\n",
    "\\end{bmatrix}\\tag{4} $$and        $$ x\\_normalized = \\frac{x}{\\| x\\|} = \\begin{bmatrix}\n",
    "    0 & \\frac{3}{5} & \\frac{4}{5} \\\\\n",
    "    \\frac{2}{\\sqrt{56}} & \\frac{6}{\\sqrt{56}} & \\frac{4}{\\sqrt{56}} \\\\\n",
    "\\end{bmatrix}\\tag{5}$$ Note that you can divide matrices of different sizes and it works fine: this is called broadcasting.\n",
    "\n",
    "\n",
    "**Exercise**: Implement normalizeRows() to normalize the rows of a matrix. After applying this function to an input matrix x, each row of x should be a vector of unit length (meaning length 1)."
   ]
  },
  {
   "cell_type": "code",
   "execution_count": 8,
   "metadata": {
    "id": "QaF_pIzDGjgC"
   },
   "outputs": [],
   "source": [
    "\n",
    "def normalizeRows(x):\n",
    "    \"\"\"\n",
    "    Implement a function that normalizes each row of the matrix x (to have unit length).\n",
    "    \n",
    "    Argument:\n",
    "    x -- A numpy matrix of shape (n, m)\n",
    "    \n",
    "    Returns:\n",
    "    x -- The normalized (by row) numpy matrix. You are allowed to modify x.\n",
    "    \"\"\"\n",
    "    \n",
    "    ### START CODE HERE ### (≈ 2 lines of code)\n",
    "    # Compute x_norm as the norm 2 of x. Use np.linalg.norm(..., ord = 2, axis = ..., keepdims = True)\n",
    "    x_norm = np.linalg.norm(x, ord = 2, axis = 1, keepdims = True)\n",
    "    \n",
    "    # Divide x by its norm.\n",
    "    x = x/x_norm\n",
    "    ### END CODE HERE ###\n",
    "\n",
    "    return x"
   ]
  },
  {
   "cell_type": "code",
   "execution_count": 9,
   "metadata": {
    "colab": {
     "base_uri": "https://localhost:8080/"
    },
    "executionInfo": {
     "elapsed": 1107,
     "status": "ok",
     "timestamp": 1614687792186,
     "user": {
      "displayName": "Mouna Kacimi",
      "photoUrl": "",
      "userId": "13741257071130912570"
     },
     "user_tz": -60
    },
    "id": "WEK8aDW8UcCD",
    "outputId": "1368fec1-7c88-43d9-e7a8-4dc06ce2935c"
   },
   "outputs": [
    {
     "name": "stdout",
     "output_type": "stream",
     "text": [
      "normalizeRows(x) = [[0.         0.6        0.8       ]\n",
      " [0.13736056 0.82416338 0.54944226]]\n"
     ]
    }
   ],
   "source": [
    "x = np.array([\n",
    "    [0, 3, 4],\n",
    "    [1, 6, 4]])\n",
    "print(\"normalizeRows(x) = \" + str(normalizeRows(x)))"
   ]
  },
  {
   "cell_type": "markdown",
   "metadata": {
    "id": "qZqPJsY6UskP"
   },
   "source": [
    "Expected Output:\n",
    "\n",
    " <tr> \n",
    "   <td> **normalizeRows(x)** </td> \n",
    "   <td> [[ 0.          0.6         0.8       ]\n",
    "[ 0.13736056 0.82416338 0.54944226]]"
   ]
  },
  {
   "cell_type": "markdown",
   "metadata": {
    "id": "RAYsuPjGP3DJ"
   },
   "source": [
    "### 1.3 Data Cleaning\n",
    "\n",
    "Data cleaning is a very important step in machine learning. \n",
    "For example, we always check for missing values in the data by running **isnull()** which checks for null Values, and returns a boolean array (an array of true for missing values and false for non-missing values). \n",
    "After you get a list of missing values you can get rid of them, or drop them by using **dropna()** to drop the rows or **dropna(axis=1)** to drop the columns. A different approach would be to fill the missing values with other values by using **fillna(x)** which fills the missing values with x (you can put there whatever you want) or s.fillna(s.mean()) to replace all null values with the mean (mean can be replaced with almost any function from the statistics section)"
   ]
  },
  {
   "cell_type": "code",
   "execution_count": null,
   "metadata": {
    "id": "F4XqvxN59bR_"
   },
   "outputs": [],
   "source": [
    "dataset1.notnull()"
   ]
  },
  {
   "cell_type": "markdown",
   "metadata": {
    "id": "4KXDTCe_Ac2N"
   },
   "source": [
    "\n",
    "**Exercise3**: Can missing values be replaced using prediction. If yes, explain the approach, if no explain why. \n",
    "\n",
    "####### Answer ######\n",
    "\n",
    "Yes, prediction can be used to solve the problem of missing values. \n",
    "The feature with missing values can be defined as the response variable (dependent variable) to be predicted. Other features can be used as predictors. \n",
    "A regression model is then learned to predict missing values. \n",
    "####################################\n"
   ]
  },
  {
   "cell_type": "markdown",
   "metadata": {
    "id": "K2Lh_rVYA29s"
   },
   "source": [
    "**Exercise4**: Analyse the Vaccination Dataset and propose a machine learning task that can be acheived with such dataset. \n",
    "\n",
    "####### Answer ###########\n",
    "\n",
    "Some interesting tasks could be:\n",
    "\n",
    "1- Predict the number of totally vaccinated people (based on country, number of vacinated people per day, the type of vaccine, etc)\n",
    "\n",
    "2- Predict the type of used vaccine based on the region of the countries and the number of vaccinated people \n",
    "\n",
    "3- Predict time series information \n",
    "\n",
    "####################################"
   ]
  },
  {
   "cell_type": "markdown",
   "metadata": {
    "id": "NVre6BjVZ3Zc"
   },
   "source": [
    "## 2. Images Dataset\n",
    "\n",
    "The below dataset (\"data.h5\") contains: - a training set of images labeled as cat (y=1) or non-cat (y=0). Each image is of shape (num_px, num_px, 3) where 3 is for the 3 channels (RGB). Thus, each image is square (height = num_px) and (width = num_px). Let's get more familiar with the dataset. First you have to load the data."
   ]
  },
  {
   "cell_type": "code",
   "execution_count": 10,
   "metadata": {
    "executionInfo": {
     "elapsed": 5100,
     "status": "ok",
     "timestamp": 1614715487875,
     "user": {
      "displayName": "Mouna Kacimi",
      "photoUrl": "",
      "userId": "13741257071130912570"
     },
     "user_tz": -60
    },
    "id": "aWzYYrEEfCUm"
   },
   "outputs": [],
   "source": [
    "import h5py\n",
    "import numpy as np\n",
    "dataset2 = h5py.File('train_catvnoncat.h5', \"r\")\n",
    "images=np.array(dataset2[\"train_set_x\"][:])\n",
    "\n"
   ]
  },
  {
   "cell_type": "markdown",
   "metadata": {
    "id": "ubJeYg2_L91t"
   },
   "source": [
    "Each line of your \"images\" DataFrame is an array representing an image. You can visualize an example by running the following code. Feel free also to change the index value and re-run to see other images."
   ]
  },
  {
   "cell_type": "code",
   "execution_count": 11,
   "metadata": {
    "colab": {
     "base_uri": "https://localhost:8080/",
     "height": 286
    },
    "executionInfo": {
     "elapsed": 801,
     "status": "ok",
     "timestamp": 1614715491511,
     "user": {
      "displayName": "Mouna Kacimi",
      "photoUrl": "",
      "userId": "13741257071130912570"
     },
     "user_tz": -60
    },
    "id": "qVWrbg7Ak6mx",
    "outputId": "800c0940-e241-40f8-a254-87c0b60f963e"
   },
   "outputs": [
    {
     "data": {
      "text/plain": [
       "<matplotlib.image.AxesImage at 0x1192eab70>"
      ]
     },
     "execution_count": 11,
     "metadata": {},
     "output_type": "execute_result"
    },
    {
     "data": {
      "image/png": "[encoded data removed]",
      "text/plain": [
       "<Figure size 432x288 with 1 Axes>"
      ]
     },
     "metadata": {
      "needs_background": "light"
     },
     "output_type": "display_data"
    }
   ],
   "source": [
    "# Example of a picture\n",
    "import matplotlib.pyplot as plt\n",
    "index =25\n",
    "plt.imshow(images[index])\n"
   ]
  },
  {
   "cell_type": "markdown",
   "metadata": {
    "id": "n4aLdMR7Ptfw"
   },
   "source": [
    "Many software bugs in machine learning come from having matrix/vector dimensions that do not fit. If you can keep your matrix/vector dimensions straight you will go a long way toward eliminating many bugs.\n",
    "\n",
    "**Exercise**: Find the values for: - m_images (number of images) - num_px (= height = width of an image).\n",
    "Remember that **images** is a numpy-array of shape (m_, num_px, num_px, 3). For instance, you can access m_images by writing images.shape[0]."
   ]
  },
  {
   "cell_type": "code",
   "execution_count": 12,
   "metadata": {
    "colab": {
     "base_uri": "https://localhost:8080/"
    },
    "executionInfo": {
     "elapsed": 545,
     "status": "ok",
     "timestamp": 1614715494658,
     "user": {
      "displayName": "Mouna Kacimi",
      "photoUrl": "",
      "userId": "13741257071130912570"
     },
     "user_tz": -60
    },
    "id": "hSZ9RC-CQked",
    "outputId": "4271f978-2ab0-42c2-8978-bb0360d3628c"
   },
   "outputs": [
    {
     "name": "stdout",
     "output_type": "stream",
     "text": [
      "Number of images: m_images = 209\n",
      "Height/Width of each image: num_px = 64\n"
     ]
    }
   ],
   "source": [
    "### START CODE HERE ### (≈ 2 lines of code)\n",
    "m_images = images.shape[0]\n",
    "num_px = images.shape[1]\n",
    "### END CODE HERE ###\n",
    "\n",
    "print (\"Number of images: m_images = \" + str(m_images))\n",
    "print (\"Height/Width of each image: num_px = \" + str(num_px))\n"
   ]
  },
  {
   "cell_type": "markdown",
   "metadata": {
    "id": "OYJe2JyKRRiU"
   },
   "source": [
    "*Expected Outcome* \n",
    "\n",
    "*Number of images: m_train = 209*\n",
    "\n",
    "*Height/Width of each image: num_px = 64*"
   ]
  },
  {
   "cell_type": "markdown",
   "metadata": {
    "id": "DhzV_yw5oUyA"
   },
   "source": [
    "For convenience, you should now reshape images of shape (num_px, num_px, 3) in a numpy-array of shape (num_px  ∗  num_px  ∗  3, 1). After this, the dataset will be a numpy-array where each column represents a flattened image. There should be m_image columns.\n",
    "\n",
    "**Exercise**: Reshape the image dataset so that images of size (num_px, num_px, 3) are flattened into single vectors of shape (num_px  ∗  num_px  ∗  3, 1).A trick when you want to flatten a matrix X of shape (a,b,c,d) to a matrix X_flatten of shape (b ∗ c ∗ d, a) is to use:\n",
    "\n",
    "X_flatten = X.reshape(X.shape[0], -1).T        # X.T is the transpose of X"
   ]
  },
  {
   "cell_type": "code",
   "execution_count": 13,
   "metadata": {
    "colab": {
     "base_uri": "https://localhost:8080/"
    },
    "executionInfo": {
     "elapsed": 578,
     "status": "ok",
     "timestamp": 1614715499692,
     "user": {
      "displayName": "Mouna Kacimi",
      "photoUrl": "",
      "userId": "13741257071130912570"
     },
     "user_tz": -60
    },
    "id": "O-AqGsUwogTl",
    "outputId": "4ba4953e-1d3e-4b56-ab31-5725bc94a272"
   },
   "outputs": [
    {
     "name": "stdout",
     "output_type": "stream",
     "text": [
      "images flatten shape: (12288, 209)\n"
     ]
    }
   ],
   "source": [
    "### START CODE HERE ### (≈ 1 lines of code)\n",
    "dataset_flatten = images.reshape(images.shape[0], -1).T\n",
    "### END CODE HERE ###\n",
    "\n",
    "print (\"images flatten shape: \" + str(dataset_flatten.shape))"
   ]
  },
  {
   "cell_type": "markdown",
   "metadata": {
    "id": "PqomDoYjS3Fd"
   },
   "source": [
    "*Expected Outcome: images flatten shape: (12288, 209)*"
   ]
  }
 ],
 "metadata": {
  "colab": {
   "authorship_tag": "ABX9TyN8yeVEZT9Ru2aNPCgxhHM9",
   "collapsed_sections": [],
   "mount_file_id": "1H5sznu66yVegqbRqVM4UAKx0GpVOXXB2",
   "name": "Lab1_Solution.ipynb",
   "provenance": []
  },
  "kernelspec": {
   "display_name": "Python 3 (ipykernel)",
   "language": "python",
   "name": "python3"
  },
  "language_info": {
   "codemirror_mode": {
    "name": "ipython",
    "version": 3
   },
   "file_extension": ".py",
   "mimetype": "text/x-python",
   "name": "python",
   "nbconvert_exporter": "python",
   "pygments_lexer": "ipython3",
   "version": "3.7.3"
  }
 },
 "nbformat": 4,
 "nbformat_minor": 1
}
